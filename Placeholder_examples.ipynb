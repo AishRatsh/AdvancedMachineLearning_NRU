{
 "cells": [
  {
   "cell_type": "code",
   "execution_count": 17,
   "metadata": {},
   "outputs": [],
   "source": [
    "import tensorflow as tf\n",
    "import numpy as np\n",
    "s = tf.InteractiveSession()\n",
    "writer = tf.summary.FileWriter(\"/tmp/tboard\", graph=s.graph)"
   ]
  },
  {
   "cell_type": "code",
   "execution_count": 18,
   "metadata": {},
   "outputs": [],
   "source": [
    "with tf.name_scope(\"Placeholders_examples\"):\n",
    "    ## Default placeholder that can be arbitrary float32 scalar, vector, matrix etc\n",
    "    arbitrary_input = tf.placeholder('float32')\n",
    "    \n",
    "    ## Input vector of arbitrary length\n",
    "    input_vector = tf.placeholder('float32', shape=(None,))\n",
    "    \n",
    "    ## Input vector that must have 10 elements and integer type\n",
    "    fixed_vector = tf.placeholder('int32', shape=(10,))\n",
    "    \n",
    "    ## Matrix of arbitrary n rows and 15 columns (Eg: a minibatch of your data table)\n",
    "    input_matrix = tf.placeholder('float32', shape=(None,15))\n",
    "    \n",
    "    ## You can generally use None whenever you don't need a specific shape.\n",
    "    input1 = tf.placeholder('float64', shape=(None, 100, None))\n",
    "    input2 = tf.placeholder('int32', shape=(None,None, 3, 224,224))\n",
    "    \n",
    "    ## Elementwise multiplication\n",
    "    double_the_vector = input_vector*2\n",
    "    \n",
    "    ## Elementwise cosine\n",
    "    elementwise_cosine = tf.cos(input_vector)\n",
    "    \n",
    "    ##difference between squared vector and vector itself plus one\n",
    "    vector_squares = input_vector**2 - input_vector + 1\n",
    "    "
   ]
  },
  {
   "cell_type": "code",
   "execution_count": 19,
   "metadata": {},
   "outputs": [],
   "source": [
    "myVector1 = tf.placeholder('float32', shape=(None,), name='Vector_1')\n",
    "myVector2 = tf.placeholder('float32', shape=(None,))\n",
    "myTransformation = myVector1 * myVector2 / (tf.sin(myVector1)+1)"
   ]
  },
  {
   "cell_type": "code",
   "execution_count": 20,
   "metadata": {},
   "outputs": [
    {
     "name": "stdout",
     "output_type": "stream",
     "text": [
      "Tensor(\"div_2:0\", shape=(?,), dtype=float32)\n"
     ]
    }
   ],
   "source": [
    "print myTransformation"
   ]
  },
  {
   "cell_type": "code",
   "execution_count": 21,
   "metadata": {},
   "outputs": [
    {
     "name": "stdout",
     "output_type": "stream",
     "text": [
      "[0. 1. 2. 3. 4.]\n"
     ]
    }
   ],
   "source": [
    "dummy = np.arange(5).astype('float32')\n",
    "print (dummy)"
   ]
  },
  {
   "cell_type": "code",
   "execution_count": 22,
   "metadata": {},
   "outputs": [
    {
     "data": {
      "text/plain": [
       "array([0.       , 1.6291324, 2.0950115, 2.6289961, 0.       ],\n",
       "      dtype=float32)"
      ]
     },
     "execution_count": 22,
     "metadata": {},
     "output_type": "execute_result"
    }
   ],
   "source": [
    "myTransformation.eval({myVector1:dummy, myVector2:dummy[::-1]})"
   ]
  },
  {
   "cell_type": "code",
   "execution_count": 24,
   "metadata": {},
   "outputs": [],
   "source": [
    "writer.add_graph(myTransformation.graph)"
   ]
  },
  {
   "cell_type": "raw",
   "metadata": {},
   "source": [
    "writer.flush()"
   ]
  },
  {
   "cell_type": "code",
   "execution_count": null,
   "metadata": {},
   "outputs": [],
   "source": [
    "## Tensorboard allows writing scalars, images, audio, histogram."
   ]
  }
 ],
 "metadata": {
  "kernelspec": {
   "display_name": "Python 2",
   "language": "python",
   "name": "python2"
  },
  "language_info": {
   "codemirror_mode": {
    "name": "ipython",
    "version": 2
   },
   "file_extension": ".py",
   "mimetype": "text/x-python",
   "name": "python",
   "nbconvert_exporter": "python",
   "pygments_lexer": "ipython2",
   "version": "2.7.12"
  }
 },
 "nbformat": 4,
 "nbformat_minor": 2
}
