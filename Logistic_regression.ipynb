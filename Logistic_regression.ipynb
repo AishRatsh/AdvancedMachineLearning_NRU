{
 "cells": [
  {
   "cell_type": "code",
   "execution_count": 1,
   "metadata": {},
   "outputs": [],
   "source": [
    "import tensorflow as tf\n",
    "s = tf.InteractiveSession()"
   ]
  },
  {
   "cell_type": "code",
   "execution_count": 4,
   "metadata": {},
   "outputs": [
    {
     "name": "stdout",
     "output_type": "stream",
     "text": [
      "('y [shape - (360,)]:', array([0, 1, 0, 1, 0, 1, 0, 0, 1, 1]))\n",
      "X [shape - (360, 64)]:\n"
     ]
    }
   ],
   "source": [
    "import matplotlib.pyplot as plt\n",
    "from sklearn.datasets import load_digits\n",
    "mnist = load_digits(2)\n",
    "\n",
    "X, y = mnist.data, mnist.target\n",
    "\n",
    "print (\"y [shape - %s]:\" %(str(y.shape)), y[:10])\n",
    "print (\"X [shape - %s]:\" % (str(X.shape)))"
   ]
  },
  {
   "cell_type": "code",
   "execution_count": 7,
   "metadata": {},
   "outputs": [
    {
     "name": "stdout",
     "output_type": "stream",
     "text": [
      "('X:\\n', array([[ 0.,  0.,  5., 13.,  9.,  1.,  0.,  0.,  0.,  0.],\n",
      "       [ 0.,  0.,  0., 12., 13.,  5.,  0.,  0.,  0.,  0.],\n",
      "       [ 0.,  0.,  1.,  9., 15., 11.,  0.,  0.,  0.,  0.]]))\n",
      "('y:\\n', array([0, 1, 0, 1, 0, 1, 0, 0, 1, 1]))\n"
     ]
    }
   ],
   "source": [
    "print('X:\\n',X[:3,:10])\n",
    "print('y:\\n',y[:10])\n",
    "plt.imshow(X[0].reshape([8,8]));"
   ]
  },
  {
   "cell_type": "code",
   "execution_count": 9,
   "metadata": {},
   "outputs": [],
   "source": [
    "from sklearn.model_selection import train_test_split\n",
    "X_train, X_test, y_train, y_test = train_test_split(X,y, random_state=42)"
   ]
  },
  {
   "cell_type": "code",
   "execution_count": 10,
   "metadata": {},
   "outputs": [],
   "source": [
    "weights = tf.Variable(tf.zeros([X.shape[1],1]), dtype=\"float32\")\n",
    "b = tf.Variable(-1e-1, dtype=\"float32\")"
   ]
  },
  {
   "cell_type": "code",
   "execution_count": 11,
   "metadata": {},
   "outputs": [
    {
     "name": "stdout",
     "output_type": "stream",
     "text": [
      "<tf.Variable 'Variable:0' shape=(64, 1) dtype=float32_ref>\n",
      "<tf.Variable 'Variable_1:0' shape=() dtype=float32_ref>\n"
     ]
    }
   ],
   "source": [
    "print(weights)\n",
    "print(b)"
   ]
  },
  {
   "cell_type": "code",
   "execution_count": 12,
   "metadata": {},
   "outputs": [],
   "source": [
    "input_X = tf.placeholder(\"float32\", shape=(None, X_train.shape[1]))\n",
    "input_y = tf.placeholder(\"float32\", shape=(None,))"
   ]
  },
  {
   "cell_type": "code",
   "execution_count": 13,
   "metadata": {},
   "outputs": [
    {
     "name": "stdout",
     "output_type": "stream",
     "text": [
      "Tensor(\"Placeholder:0\", shape=(?, 64), dtype=float32)\n",
      "Tensor(\"Placeholder_1:0\", shape=(?,), dtype=float32)\n"
     ]
    }
   ],
   "source": [
    "print(input_X)\n",
    "print(input_y)"
   ]
  },
  {
   "cell_type": "code",
   "execution_count": 16,
   "metadata": {},
   "outputs": [],
   "source": [
    "predicted_y = tf.nn.sigmoid(tf.squeeze(tf.matmul(input_X, weights)+b))\n",
    "\n",
    "loss = tf.reduce_mean(-tf.log(predicted_y)*input_y - tf.log(1-predicted_y)*(1-input_y))\n",
    "\n",
    "optimizer = tf.train.MomentumOptimizer(0.01, 0.5).minimize(loss)"
   ]
  }
 ],
 "metadata": {
  "kernelspec": {
   "display_name": "Python 2",
   "language": "python",
   "name": "python2"
  },
  "language_info": {
   "codemirror_mode": {
    "name": "ipython",
    "version": 2
   },
   "file_extension": ".py",
   "mimetype": "text/x-python",
   "name": "python",
   "nbconvert_exporter": "python",
   "pygments_lexer": "ipython2",
   "version": "2.7.12"
  }
 },
 "nbformat": 4,
 "nbformat_minor": 2
}
